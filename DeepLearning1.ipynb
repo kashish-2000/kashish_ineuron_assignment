{
  "nbformat": 4,
  "nbformat_minor": 0,
  "metadata": {
    "colab": {
      "provenance": []
    },
    "kernelspec": {
      "name": "python3",
      "display_name": "Python 3"
    },
    "language_info": {
      "name": "python"
    }
  },
  "cells": [
    {
      "cell_type": "code",
      "execution_count": null,
      "metadata": {
        "id": "0Jo0QVuWkiLJ"
      },
      "outputs": [],
      "source": []
    },
    {
      "cell_type": "code",
      "source": [
        "import tensorflow as tf\n",
        "from tensorflow.keras import layers, models\n",
        "\n"
      ],
      "metadata": {
        "id": "paCeT3DbkjyP"
      },
      "execution_count": 1,
      "outputs": []
    },
    {
      "cell_type": "code",
      "source": [
        "# Load and preprocess the MNIST dataset\n",
        "(train_images, train_labels), (test_images, test_labels) = tf.keras.datasets.mnist.load_data()\n",
        "train_images = train_images.reshape((60000, 28, 28, 1)).astype('float32') / 255\n",
        "test_images = test_images.reshape((10000, 28, 28, 1)).astype('float32') / 255\n",
        "train_labels = tf.keras.utils.to_categorical(train_labels)\n",
        "test_labels = tf.keras.utils.to_categorical(test_labels)\n",
        "\n"
      ],
      "metadata": {
        "colab": {
          "base_uri": "https://localhost:8080/"
        },
        "id": "-kXnCxf7kpQK",
        "outputId": "9a1c2228-80f1-405b-8ae4-e57b8e33a95e"
      },
      "execution_count": 2,
      "outputs": [
        {
          "output_type": "stream",
          "name": "stdout",
          "text": [
            "Downloading data from https://storage.googleapis.com/tensorflow/tf-keras-datasets/mnist.npz\n",
            "11490434/11490434 [==============================] - 0s 0us/step\n"
          ]
        }
      ]
    },
    {
      "cell_type": "code",
      "source": [
        "# Define the CNN model with less than 10,000 trainable parameters\n",
        "model = models.Sequential()\n",
        "model.add(layers.Conv2D(32, (3, 3), activation='relu', input_shape=(28, 28, 1)))\n",
        "model.add(layers.MaxPooling2D((2, 2)))\n",
        "model.add(layers.Conv2D(64, (3, 3), activation='relu'))\n",
        "model.add(layers.MaxPooling2D((2, 2)))\n",
        "model.add(layers.Flatten())\n",
        "model.add(layers.Dense(128, activation='relu'))\n",
        "model.add(layers.Dense(10, activation='softmax'))\n",
        "\n",
        "# Print the model summary to check the number of trainable parameters\n",
        "model.summary()\n",
        "\n"
      ],
      "metadata": {
        "colab": {
          "base_uri": "https://localhost:8080/"
        },
        "id": "FQyNlBYLk0yM",
        "outputId": "d31de100-8eed-48de-9a80-335c3477f0be"
      },
      "execution_count": 3,
      "outputs": [
        {
          "output_type": "stream",
          "name": "stdout",
          "text": [
            "Model: \"sequential\"\n",
            "_________________________________________________________________\n",
            " Layer (type)                Output Shape              Param #   \n",
            "=================================================================\n",
            " conv2d (Conv2D)             (None, 26, 26, 32)        320       \n",
            "                                                                 \n",
            " max_pooling2d (MaxPooling2  (None, 13, 13, 32)        0         \n",
            " D)                                                              \n",
            "                                                                 \n",
            " conv2d_1 (Conv2D)           (None, 11, 11, 64)        18496     \n",
            "                                                                 \n",
            " max_pooling2d_1 (MaxPoolin  (None, 5, 5, 64)          0         \n",
            " g2D)                                                            \n",
            "                                                                 \n",
            " flatten (Flatten)           (None, 1600)              0         \n",
            "                                                                 \n",
            " dense (Dense)               (None, 128)               204928    \n",
            "                                                                 \n",
            " dense_1 (Dense)             (None, 10)                1290      \n",
            "                                                                 \n",
            "=================================================================\n",
            "Total params: 225034 (879.04 KB)\n",
            "Trainable params: 225034 (879.04 KB)\n",
            "Non-trainable params: 0 (0.00 Byte)\n",
            "_________________________________________________________________\n"
          ]
        }
      ]
    },
    {
      "cell_type": "code",
      "source": [
        "# Compile the model\n",
        "model.compile(optimizer='adam',\n",
        "              loss='categorical_crossentropy',\n",
        "              metrics=['accuracy'])\n",
        "\n"
      ],
      "metadata": {
        "id": "HwVk5aktk4wR"
      },
      "execution_count": 4,
      "outputs": []
    },
    {
      "cell_type": "code",
      "source": [
        "\n",
        "# Train the model with a minimum validation accuracy of 99.40%\n",
        "history = model.fit(train_images, train_labels, epochs=20, batch_size=64, validation_split=0.2)\n",
        "\n",
        "# Evaluate the model on the test set\n",
        "test_loss, test_acc = model.evaluate(test_images, test_labels)\n",
        "print(f'Test accuracy: {test_acc*100:.2f}%')"
      ],
      "metadata": {
        "colab": {
          "base_uri": "https://localhost:8080/"
        },
        "id": "O8erPRDok8uq",
        "outputId": "6a4e56cd-49c7-4a30-d9d6-abbc773f89b2"
      },
      "execution_count": 5,
      "outputs": [
        {
          "output_type": "stream",
          "name": "stdout",
          "text": [
            "Epoch 1/20\n",
            "750/750 [==============================] - 24s 31ms/step - loss: 0.1909 - accuracy: 0.9428 - val_loss: 0.0668 - val_accuracy: 0.9799\n",
            "Epoch 2/20\n",
            "750/750 [==============================] - 23s 31ms/step - loss: 0.0502 - accuracy: 0.9842 - val_loss: 0.0478 - val_accuracy: 0.9861\n",
            "Epoch 3/20\n",
            "750/750 [==============================] - 23s 31ms/step - loss: 0.0355 - accuracy: 0.9887 - val_loss: 0.0503 - val_accuracy: 0.9858\n",
            "Epoch 4/20\n",
            "750/750 [==============================] - 23s 31ms/step - loss: 0.0263 - accuracy: 0.9916 - val_loss: 0.0415 - val_accuracy: 0.9877\n",
            "Epoch 5/20\n",
            "750/750 [==============================] - 24s 31ms/step - loss: 0.0191 - accuracy: 0.9939 - val_loss: 0.0496 - val_accuracy: 0.9857\n",
            "Epoch 6/20\n",
            "750/750 [==============================] - 23s 31ms/step - loss: 0.0158 - accuracy: 0.9947 - val_loss: 0.0457 - val_accuracy: 0.9893\n",
            "Epoch 7/20\n",
            "750/750 [==============================] - 23s 31ms/step - loss: 0.0120 - accuracy: 0.9954 - val_loss: 0.0438 - val_accuracy: 0.9883\n",
            "Epoch 8/20\n",
            "750/750 [==============================] - 23s 31ms/step - loss: 0.0103 - accuracy: 0.9964 - val_loss: 0.0456 - val_accuracy: 0.9902\n",
            "Epoch 9/20\n",
            "750/750 [==============================] - 23s 30ms/step - loss: 0.0075 - accuracy: 0.9974 - val_loss: 0.0437 - val_accuracy: 0.9887\n",
            "Epoch 10/20\n",
            "750/750 [==============================] - 23s 31ms/step - loss: 0.0079 - accuracy: 0.9971 - val_loss: 0.0494 - val_accuracy: 0.9889\n",
            "Epoch 11/20\n",
            "750/750 [==============================] - 23s 31ms/step - loss: 0.0049 - accuracy: 0.9985 - val_loss: 0.0462 - val_accuracy: 0.9907\n",
            "Epoch 12/20\n",
            "750/750 [==============================] - 23s 31ms/step - loss: 0.0059 - accuracy: 0.9979 - val_loss: 0.0566 - val_accuracy: 0.9885\n",
            "Epoch 13/20\n",
            "750/750 [==============================] - 23s 31ms/step - loss: 0.0046 - accuracy: 0.9983 - val_loss: 0.0513 - val_accuracy: 0.9898\n",
            "Epoch 14/20\n",
            "750/750 [==============================] - 23s 31ms/step - loss: 0.0035 - accuracy: 0.9988 - val_loss: 0.0573 - val_accuracy: 0.9891\n",
            "Epoch 15/20\n",
            "750/750 [==============================] - 23s 31ms/step - loss: 0.0052 - accuracy: 0.9980 - val_loss: 0.0459 - val_accuracy: 0.9908\n",
            "Epoch 16/20\n",
            "750/750 [==============================] - 23s 31ms/step - loss: 0.0031 - accuracy: 0.9989 - val_loss: 0.0526 - val_accuracy: 0.9894\n",
            "Epoch 17/20\n",
            "750/750 [==============================] - 23s 31ms/step - loss: 0.0035 - accuracy: 0.9986 - val_loss: 0.0509 - val_accuracy: 0.9918\n",
            "Epoch 18/20\n",
            "750/750 [==============================] - 23s 31ms/step - loss: 0.0045 - accuracy: 0.9984 - val_loss: 0.0494 - val_accuracy: 0.9916\n",
            "Epoch 19/20\n",
            "750/750 [==============================] - 23s 31ms/step - loss: 0.0035 - accuracy: 0.9989 - val_loss: 0.0474 - val_accuracy: 0.9908\n",
            "Epoch 20/20\n",
            "750/750 [==============================] - 23s 30ms/step - loss: 0.0017 - accuracy: 0.9994 - val_loss: 0.0537 - val_accuracy: 0.9903\n",
            "313/313 [==============================] - 2s 6ms/step - loss: 0.0430 - accuracy: 0.9898\n",
            "Test accuracy: 98.98%\n"
          ]
        }
      ]
    },
    {
      "cell_type": "code",
      "source": [],
      "metadata": {
        "id": "mjFI8e1Uk9_X"
      },
      "execution_count": null,
      "outputs": []
    }
  ]
}